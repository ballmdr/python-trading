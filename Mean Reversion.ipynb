{
 "cells": [
  {
   "cell_type": "code",
   "execution_count": 1,
   "metadata": {},
   "outputs": [],
   "source": [
    "import pandas as pd\n",
    "import numpy as np\n",
    "from datetime import datetime\n",
    "\n",
    "import fxcmpy"
   ]
  },
  {
   "cell_type": "code",
   "execution_count": 2,
   "metadata": {},
   "outputs": [],
   "source": [
    "con = fxcmpy.fxcmpy(config_file = 'fxcm.cfg', log_level='debug', server='demo')"
   ]
  },
  {
   "cell_type": "code",
   "execution_count": 15,
   "metadata": {},
   "outputs": [],
   "source": [
    "con.debug = True"
   ]
  },
  {
   "cell_type": "code",
   "execution_count": 16,
   "metadata": {},
   "outputs": [
    {
     "data": {
      "text/plain": [
       "True"
      ]
     },
     "execution_count": 16,
     "metadata": {},
     "output_type": "execute_result"
    }
   ],
   "source": [
    "con.is_connected()"
   ]
  },
  {
   "cell_type": "code",
   "execution_count": 25,
   "metadata": {},
   "outputs": [
    {
     "data": {
      "text/plain": [
       "10000"
      ]
     },
     "execution_count": 25,
     "metadata": {},
     "output_type": "execute_result"
    }
   ],
   "source": [
    "con.get_max_prices()"
   ]
  },
  {
   "cell_type": "code",
   "execution_count": 95,
   "metadata": {},
   "outputs": [
    {
     "name": "stdout",
     "output_type": "stream",
     "text": [
      "                            0\n",
      "accountId             1041561\n",
      "accountName          01041561\n",
      "amountK                     1\n",
      "close                 1.12358\n",
      "com                         0\n",
      "currency              EUR/USD\n",
      "currencyPoint             0.1\n",
      "grossPL                 -0.17\n",
      "isBuy                    True\n",
      "isDisabled              False\n",
      "limit                       0\n",
      "open                  1.12375\n",
      "ratePrecision               5\n",
      "roll                        0\n",
      "stop                        0\n",
      "stopMove                    0\n",
      "t                           1\n",
      "time           04192019041021\n",
      "tradeId              67770991\n",
      "usedMargin             21.645\n",
      "valueDate                    \n",
      "visiblePL                -1.7\n"
     ]
    },
    {
     "ename": "ValueError",
     "evalue": "No open position with id 67770991.",
     "output_type": "error",
     "traceback": [
      "\u001b[0;31m---------------------------------------------------------------------------\u001b[0m",
      "\u001b[0;31mValueError\u001b[0m                                Traceback (most recent call last)",
      "\u001b[0;32m<ipython-input-95-300943921abd>\u001b[0m in \u001b[0;36m<module>\u001b[0;34m\u001b[0m\n\u001b[1;32m      2\u001b[0m \u001b[0mprint\u001b[0m\u001b[0;34m(\u001b[0m\u001b[0mposes\u001b[0m\u001b[0;34m.\u001b[0m\u001b[0mT\u001b[0m\u001b[0;34m)\u001b[0m\u001b[0;34m\u001b[0m\u001b[0;34m\u001b[0m\u001b[0m\n\u001b[1;32m      3\u001b[0m \u001b[0;32mfor\u001b[0m \u001b[0mindex\u001b[0m\u001b[0;34m,\u001b[0m \u001b[0mpos\u001b[0m \u001b[0;32min\u001b[0m \u001b[0mposes\u001b[0m\u001b[0;34m.\u001b[0m\u001b[0miterrows\u001b[0m\u001b[0;34m(\u001b[0m\u001b[0;34m)\u001b[0m\u001b[0;34m:\u001b[0m\u001b[0;34m\u001b[0m\u001b[0;34m\u001b[0m\u001b[0m\n\u001b[0;32m----> 4\u001b[0;31m     \u001b[0mprint\u001b[0m\u001b[0;34m(\u001b[0m\u001b[0mcon\u001b[0m\u001b[0;34m.\u001b[0m\u001b[0mget_open_position\u001b[0m\u001b[0;34m(\u001b[0m\u001b[0mint\u001b[0m\u001b[0;34m(\u001b[0m\u001b[0mpos\u001b[0m\u001b[0;34m.\u001b[0m\u001b[0mtradeId\u001b[0m\u001b[0;34m)\u001b[0m\u001b[0;34m)\u001b[0m\u001b[0;34m)\u001b[0m\u001b[0;34m\u001b[0m\u001b[0;34m\u001b[0m\u001b[0m\n\u001b[0m",
      "\u001b[0;32m/anaconda2/envs/fxcm/lib/python3.7/site-packages/fxcmpy/fxcmpy.py\u001b[0m in \u001b[0;36mget_open_position\u001b[0;34m(self, position_id)\u001b[0m\n\u001b[1;32m    585\u001b[0m         \u001b[0;32melse\u001b[0m\u001b[0;34m:\u001b[0m\u001b[0;34m\u001b[0m\u001b[0;34m\u001b[0m\u001b[0m\n\u001b[1;32m    586\u001b[0m             \u001b[0mself\u001b[0m\u001b[0;34m.\u001b[0m\u001b[0mlogger\u001b[0m\u001b[0;34m.\u001b[0m\u001b[0mwarn\u001b[0m\u001b[0;34m(\u001b[0m\u001b[0;34m'No open position with id %s.'\u001b[0m \u001b[0;34m%\u001b[0m \u001b[0mposition_id\u001b[0m\u001b[0;34m)\u001b[0m\u001b[0;34m\u001b[0m\u001b[0;34m\u001b[0m\u001b[0m\n\u001b[0;32m--> 587\u001b[0;31m             \u001b[0;32mraise\u001b[0m \u001b[0mValueError\u001b[0m\u001b[0;34m(\u001b[0m\u001b[0;34m'No open position with id %s.'\u001b[0m \u001b[0;34m%\u001b[0m \u001b[0mposition_id\u001b[0m\u001b[0;34m)\u001b[0m\u001b[0;34m\u001b[0m\u001b[0;34m\u001b[0m\u001b[0m\n\u001b[0m\u001b[1;32m    588\u001b[0m \u001b[0;34m\u001b[0m\u001b[0m\n\u001b[1;32m    589\u001b[0m     \u001b[0;32mdef\u001b[0m \u001b[0mget_closed_position\u001b[0m\u001b[0;34m(\u001b[0m\u001b[0mself\u001b[0m\u001b[0;34m,\u001b[0m \u001b[0mposition_id\u001b[0m\u001b[0;34m)\u001b[0m\u001b[0;34m:\u001b[0m\u001b[0;34m\u001b[0m\u001b[0;34m\u001b[0m\u001b[0m\n",
      "\u001b[0;31mValueError\u001b[0m: No open position with id 67770991."
     ]
    }
   ],
   "source": [
    "poses = con.get_open_positions()\n",
    "print(poses.T)\n",
    "for index, pos in poses.iterrows():\n",
    "    print(con.close_trade(int(pos.tradeId)))"
   ]
  },
  {
   "cell_type": "code",
   "execution_count": null,
   "metadata": {},
   "outputs": [
    {
     "name": "stderr",
     "output_type": "stream",
     "text": [
      "Exception in thread Thread-24:\n",
      "Traceback (most recent call last):\n",
      "  File \"/anaconda2/envs/fxcm/lib/python3.7/threading.py\", line 917, in _bootstrap_inner\n",
      "    self.run()\n",
      "  File \"/anaconda2/envs/fxcm/lib/python3.7/threading.py\", line 865, in run\n",
      "    self._target(*self._args, **self._kwargs)\n",
      "  File \"/anaconda2/envs/fxcm/lib/python3.7/site-packages/fxcmpy/fxcmpy.py\", line 2364, in __connect__\n",
      "    self.socket.wait()\n",
      "  File \"/anaconda2/envs/fxcm/lib/python3.7/site-packages/socketIO_client/__init__.py\", line 251, in wait\n",
      "    self._process_packets()\n",
      "  File \"/anaconda2/envs/fxcm/lib/python3.7/site-packages/socketIO_client/__init__.py\", line 278, in _process_packets\n",
      "    self._process_packet(engineIO_packet)\n",
      "  File \"/anaconda2/envs/fxcm/lib/python3.7/site-packages/socketIO_client/__init__.py\", line 491, in _process_packet\n",
      "    delegate(parse_socketIO_packet_data(socketIO_packet_data), namespace)\n",
      "  File \"/anaconda2/envs/fxcm/lib/python3.7/site-packages/socketIO_client/__init__.py\", line 513, in _on_event\n",
      "    namespace._find_packet_callback(event)(*args)\n",
      "  File \"/anaconda2/envs/fxcm/lib/python3.7/site-packages/fxcmpy/fxcmpy.py\", line 2687, in __on_open_pos_update__\n",
      "    pos = self.open_pos[trade_id]\n",
      "KeyError: 67770991\n",
      "\n"
     ]
    }
   ],
   "source": [
    "closes = con.get_closed_positions()\n",
    "print(closes.T)\n",
    "for i, close in closes.iterrows():\n",
    "    print(con.get_closed_position(int(close.tradeId)))"
   ]
  },
  {
   "cell_type": "code",
   "execution_count": 97,
   "metadata": {},
   "outputs": [
    {
     "ename": "ValueError",
     "evalue": "No order with id 67770991",
     "output_type": "error",
     "traceback": [
      "\u001b[0;31m---------------------------------------------------------------------------\u001b[0m",
      "\u001b[0;31mValueError\u001b[0m                                Traceback (most recent call last)",
      "\u001b[0;32m<ipython-input-97-7734381617d6>\u001b[0m in \u001b[0;36m<module>\u001b[0;34m\u001b[0m\n\u001b[0;32m----> 1\u001b[0;31m \u001b[0mcon\u001b[0m\u001b[0;34m.\u001b[0m\u001b[0mget_order\u001b[0m\u001b[0;34m(\u001b[0m\u001b[0;36m67770991\u001b[0m\u001b[0;34m)\u001b[0m\u001b[0;34m\u001b[0m\u001b[0;34m\u001b[0m\u001b[0m\n\u001b[0m",
      "\u001b[0;32m/anaconda2/envs/fxcm/lib/python3.7/site-packages/fxcmpy/fxcmpy.py\u001b[0m in \u001b[0;36mget_order\u001b[0;34m(self, order_id)\u001b[0m\n\u001b[1;32m    631\u001b[0m             \u001b[0;32mreturn\u001b[0m \u001b[0mself\u001b[0m\u001b[0;34m.\u001b[0m\u001b[0mold_orders\u001b[0m\u001b[0;34m[\u001b[0m\u001b[0morder_id\u001b[0m\u001b[0;34m]\u001b[0m\u001b[0;34m\u001b[0m\u001b[0;34m\u001b[0m\u001b[0m\n\u001b[1;32m    632\u001b[0m         \u001b[0;32melse\u001b[0m\u001b[0;34m:\u001b[0m\u001b[0;34m\u001b[0m\u001b[0;34m\u001b[0m\u001b[0m\n\u001b[0;32m--> 633\u001b[0;31m             \u001b[0;32mraise\u001b[0m \u001b[0mValueError\u001b[0m\u001b[0;34m(\u001b[0m\u001b[0;34m'No order with id %s'\u001b[0m \u001b[0;34m%\u001b[0m \u001b[0morder_id\u001b[0m\u001b[0;34m)\u001b[0m\u001b[0;34m\u001b[0m\u001b[0;34m\u001b[0m\u001b[0m\n\u001b[0m\u001b[1;32m    634\u001b[0m \u001b[0;34m\u001b[0m\u001b[0m\n\u001b[1;32m    635\u001b[0m     \u001b[0;32mdef\u001b[0m \u001b[0mget_oco_order_ids\u001b[0m\u001b[0;34m(\u001b[0m\u001b[0mself\u001b[0m\u001b[0;34m)\u001b[0m\u001b[0;34m:\u001b[0m\u001b[0;34m\u001b[0m\u001b[0;34m\u001b[0m\u001b[0m\n",
      "\u001b[0;31mValueError\u001b[0m: No order with id 67770991"
     ]
    }
   ],
   "source": [
    "con.get_order(67770991)"
   ]
  },
  {
   "cell_type": "code",
   "execution_count": 93,
   "metadata": {},
   "outputs": [
    {
     "name": "stderr",
     "output_type": "stream",
     "text": [
      "Exception in thread Thread-16:\n",
      "Traceback (most recent call last):\n",
      "  File \"/anaconda2/envs/fxcm/lib/python3.7/threading.py\", line 917, in _bootstrap_inner\n",
      "    self.run()\n",
      "  File \"/anaconda2/envs/fxcm/lib/python3.7/threading.py\", line 865, in run\n",
      "    self._target(*self._args, **self._kwargs)\n",
      "  File \"/anaconda2/envs/fxcm/lib/python3.7/site-packages/fxcmpy/fxcmpy.py\", line 2364, in __connect__\n",
      "    self.socket.wait()\n",
      "  File \"/anaconda2/envs/fxcm/lib/python3.7/site-packages/socketIO_client/__init__.py\", line 251, in wait\n",
      "    self._process_packets()\n",
      "  File \"/anaconda2/envs/fxcm/lib/python3.7/site-packages/socketIO_client/__init__.py\", line 278, in _process_packets\n",
      "    self._process_packet(engineIO_packet)\n",
      "  File \"/anaconda2/envs/fxcm/lib/python3.7/site-packages/socketIO_client/__init__.py\", line 491, in _process_packet\n",
      "    delegate(parse_socketIO_packet_data(socketIO_packet_data), namespace)\n",
      "  File \"/anaconda2/envs/fxcm/lib/python3.7/site-packages/socketIO_client/__init__.py\", line 513, in _on_event\n",
      "    namespace._find_packet_callback(event)(*args)\n",
      "  File \"/anaconda2/envs/fxcm/lib/python3.7/site-packages/fxcmpy/fxcmpy.py\", line 2687, in __on_open_pos_update__\n",
      "    pos = self.open_pos[trade_id]\n",
      "KeyError: 67770991\n",
      "\n",
      "Exception in thread Thread-18:\n",
      "Traceback (most recent call last):\n",
      "  File \"/anaconda2/envs/fxcm/lib/python3.7/threading.py\", line 917, in _bootstrap_inner\n",
      "    self.run()\n",
      "  File \"/anaconda2/envs/fxcm/lib/python3.7/threading.py\", line 865, in run\n",
      "    self._target(*self._args, **self._kwargs)\n",
      "  File \"/anaconda2/envs/fxcm/lib/python3.7/site-packages/fxcmpy/fxcmpy.py\", line 2364, in __connect__\n",
      "    self.socket.wait()\n",
      "  File \"/anaconda2/envs/fxcm/lib/python3.7/site-packages/socketIO_client/__init__.py\", line 251, in wait\n",
      "    self._process_packets()\n",
      "  File \"/anaconda2/envs/fxcm/lib/python3.7/site-packages/socketIO_client/__init__.py\", line 278, in _process_packets\n",
      "    self._process_packet(engineIO_packet)\n",
      "  File \"/anaconda2/envs/fxcm/lib/python3.7/site-packages/socketIO_client/__init__.py\", line 491, in _process_packet\n",
      "    delegate(parse_socketIO_packet_data(socketIO_packet_data), namespace)\n",
      "  File \"/anaconda2/envs/fxcm/lib/python3.7/site-packages/socketIO_client/__init__.py\", line 513, in _on_event\n",
      "    namespace._find_packet_callback(event)(*args)\n",
      "  File \"/anaconda2/envs/fxcm/lib/python3.7/site-packages/fxcmpy/fxcmpy.py\", line 2547, in __on_price_update__\n",
      "    callbacks[func](data, self.prices[symbol])\n",
      "TypeError: test() takes 0 positional arguments but 2 were given\n",
      "\n"
     ]
    }
   ],
   "source": [
    "def test():\n",
    "    print('received data')\n",
    "    \n",
    "con.subscribe_market_data(symbol='EUR/USD', add_callbacks=[test])"
   ]
  },
  {
   "cell_type": "code",
   "execution_count": 3,
   "metadata": {},
   "outputs": [
    {
     "data": {
      "text/html": [
       "<div>\n",
       "<style scoped>\n",
       "    .dataframe tbody tr th:only-of-type {\n",
       "        vertical-align: middle;\n",
       "    }\n",
       "\n",
       "    .dataframe tbody tr th {\n",
       "        vertical-align: top;\n",
       "    }\n",
       "\n",
       "    .dataframe thead th {\n",
       "        text-align: right;\n",
       "    }\n",
       "</style>\n",
       "<table border=\"1\" class=\"dataframe\">\n",
       "  <thead>\n",
       "    <tr style=\"text-align: right;\">\n",
       "      <th></th>\n",
       "      <th>0</th>\n",
       "    </tr>\n",
       "  </thead>\n",
       "  <tbody>\n",
       "    <tr>\n",
       "      <th>amountK</th>\n",
       "      <td>-1</td>\n",
       "    </tr>\n",
       "    <tr>\n",
       "      <th>amountKBuy</th>\n",
       "      <td>0</td>\n",
       "    </tr>\n",
       "    <tr>\n",
       "      <th>amountKSell</th>\n",
       "      <td>1</td>\n",
       "    </tr>\n",
       "    <tr>\n",
       "      <th>avgBuy</th>\n",
       "      <td>0</td>\n",
       "    </tr>\n",
       "    <tr>\n",
       "      <th>avgSell</th>\n",
       "      <td>1.12442</td>\n",
       "    </tr>\n",
       "    <tr>\n",
       "      <th>closeBuy</th>\n",
       "      <td>1.12461</td>\n",
       "    </tr>\n",
       "    <tr>\n",
       "      <th>closeSell</th>\n",
       "      <td>0</td>\n",
       "    </tr>\n",
       "    <tr>\n",
       "      <th>currency</th>\n",
       "      <td>EUR/USD</td>\n",
       "    </tr>\n",
       "    <tr>\n",
       "      <th>currencyPoint</th>\n",
       "      <td>-0.1</td>\n",
       "    </tr>\n",
       "    <tr>\n",
       "      <th>grossPL</th>\n",
       "      <td>-0.19</td>\n",
       "    </tr>\n",
       "    <tr>\n",
       "      <th>isBuyDisabled</th>\n",
       "      <td>True</td>\n",
       "    </tr>\n",
       "    <tr>\n",
       "      <th>isSellDisabled</th>\n",
       "      <td>False</td>\n",
       "    </tr>\n",
       "    <tr>\n",
       "      <th>netLimit</th>\n",
       "      <td>0</td>\n",
       "    </tr>\n",
       "    <tr>\n",
       "      <th>netPL</th>\n",
       "      <td>-0.19</td>\n",
       "    </tr>\n",
       "    <tr>\n",
       "      <th>netStop</th>\n",
       "      <td>0</td>\n",
       "    </tr>\n",
       "    <tr>\n",
       "      <th>netStopMove</th>\n",
       "      <td>0</td>\n",
       "    </tr>\n",
       "    <tr>\n",
       "      <th>offerId</th>\n",
       "      <td>1</td>\n",
       "    </tr>\n",
       "    <tr>\n",
       "      <th>plBuy</th>\n",
       "      <td>0</td>\n",
       "    </tr>\n",
       "    <tr>\n",
       "      <th>plSell</th>\n",
       "      <td>-0.19</td>\n",
       "    </tr>\n",
       "    <tr>\n",
       "      <th>ratePrecision</th>\n",
       "      <td>5</td>\n",
       "    </tr>\n",
       "    <tr>\n",
       "      <th>rollSum</th>\n",
       "      <td>0</td>\n",
       "    </tr>\n",
       "    <tr>\n",
       "      <th>t</th>\n",
       "      <td>5</td>\n",
       "    </tr>\n",
       "    <tr>\n",
       "      <th>usedMargin</th>\n",
       "      <td>21.645</td>\n",
       "    </tr>\n",
       "    <tr>\n",
       "      <th>usedMarginBuy</th>\n",
       "      <td>0</td>\n",
       "    </tr>\n",
       "    <tr>\n",
       "      <th>usedMarginSell</th>\n",
       "      <td>21.645</td>\n",
       "    </tr>\n",
       "  </tbody>\n",
       "</table>\n",
       "</div>"
      ],
      "text/plain": [
       "                      0\n",
       "amountK              -1\n",
       "amountKBuy            0\n",
       "amountKSell           1\n",
       "avgBuy                0\n",
       "avgSell         1.12442\n",
       "closeBuy        1.12461\n",
       "closeSell             0\n",
       "currency        EUR/USD\n",
       "currencyPoint      -0.1\n",
       "grossPL           -0.19\n",
       "isBuyDisabled      True\n",
       "isSellDisabled    False\n",
       "netLimit              0\n",
       "netPL             -0.19\n",
       "netStop               0\n",
       "netStopMove           0\n",
       "offerId               1\n",
       "plBuy                 0\n",
       "plSell            -0.19\n",
       "ratePrecision         5\n",
       "rollSum               0\n",
       "t                     5\n",
       "usedMargin       21.645\n",
       "usedMarginBuy         0\n",
       "usedMarginSell   21.645"
      ]
     },
     "execution_count": 3,
     "metadata": {},
     "output_type": "execute_result"
    }
   ],
   "source": [
    "con.get_summary().T"
   ]
  },
  {
   "cell_type": "code",
   "execution_count": 5,
   "metadata": {},
   "outputs": [
    {
     "name": "stdout",
     "output_type": "stream",
     "text": [
      "-0.16\n"
     ]
    }
   ],
   "source": [
    "poses = con.get_open_positions_summary()\n",
    "for i, pos in poses.iterrows():\n",
    "    print(pos.grossPL)"
   ]
  },
  {
   "cell_type": "code",
   "execution_count": 49,
   "metadata": {},
   "outputs": [
    {
     "data": {
      "text/html": [
       "<div>\n",
       "<style scoped>\n",
       "    .dataframe tbody tr th:only-of-type {\n",
       "        vertical-align: middle;\n",
       "    }\n",
       "\n",
       "    .dataframe tbody tr th {\n",
       "        vertical-align: top;\n",
       "    }\n",
       "\n",
       "    .dataframe thead th {\n",
       "        text-align: right;\n",
       "    }\n",
       "</style>\n",
       "<table border=\"1\" class=\"dataframe\">\n",
       "  <thead>\n",
       "    <tr style=\"text-align: right;\">\n",
       "      <th></th>\n",
       "      <th>0</th>\n",
       "    </tr>\n",
       "  </thead>\n",
       "  <tbody>\n",
       "    <tr>\n",
       "      <th>accountName</th>\n",
       "      <td></td>\n",
       "    </tr>\n",
       "    <tr>\n",
       "      <th>amountK</th>\n",
       "      <td>1</td>\n",
       "    </tr>\n",
       "    <tr>\n",
       "      <th>close</th>\n",
       "      <td>0</td>\n",
       "    </tr>\n",
       "    <tr>\n",
       "      <th>closeTime</th>\n",
       "      <td>None</td>\n",
       "    </tr>\n",
       "    <tr>\n",
       "      <th>com</th>\n",
       "      <td>0</td>\n",
       "    </tr>\n",
       "    <tr>\n",
       "      <th>currency</th>\n",
       "      <td>EUR/USD</td>\n",
       "    </tr>\n",
       "    <tr>\n",
       "      <th>currencyPoint</th>\n",
       "      <td>0</td>\n",
       "    </tr>\n",
       "    <tr>\n",
       "      <th>grossPL</th>\n",
       "      <td>-0.36</td>\n",
       "    </tr>\n",
       "    <tr>\n",
       "      <th>isBuy</th>\n",
       "      <td>False</td>\n",
       "    </tr>\n",
       "    <tr>\n",
       "      <th>isTotal</th>\n",
       "      <td>True</td>\n",
       "    </tr>\n",
       "    <tr>\n",
       "      <th>open</th>\n",
       "      <td>0</td>\n",
       "    </tr>\n",
       "    <tr>\n",
       "      <th>openTime</th>\n",
       "      <td>None</td>\n",
       "    </tr>\n",
       "    <tr>\n",
       "      <th>ratePrecision</th>\n",
       "      <td>0</td>\n",
       "    </tr>\n",
       "    <tr>\n",
       "      <th>roll</th>\n",
       "      <td>0</td>\n",
       "    </tr>\n",
       "    <tr>\n",
       "      <th>t</th>\n",
       "      <td>2</td>\n",
       "    </tr>\n",
       "    <tr>\n",
       "      <th>tradeId</th>\n",
       "      <td></td>\n",
       "    </tr>\n",
       "    <tr>\n",
       "      <th>valueDate</th>\n",
       "      <td></td>\n",
       "    </tr>\n",
       "    <tr>\n",
       "      <th>visiblePL</th>\n",
       "      <td>-3.6</td>\n",
       "    </tr>\n",
       "  </tbody>\n",
       "</table>\n",
       "</div>"
      ],
      "text/plain": [
       "                     0\n",
       "accountName           \n",
       "amountK              1\n",
       "close                0\n",
       "closeTime         None\n",
       "com                  0\n",
       "currency       EUR/USD\n",
       "currencyPoint        0\n",
       "grossPL          -0.36\n",
       "isBuy            False\n",
       "isTotal           True\n",
       "open                 0\n",
       "openTime          None\n",
       "ratePrecision        0\n",
       "roll                 0\n",
       "t                    2\n",
       "tradeId               \n",
       "valueDate             \n",
       "visiblePL         -3.6"
      ]
     },
     "execution_count": 49,
     "metadata": {},
     "output_type": "execute_result"
    }
   ],
   "source": [
    "con.get_closed_positions_summary().T"
   ]
  },
  {
   "cell_type": "code",
   "execution_count": 42,
   "metadata": {},
   "outputs": [
    {
     "data": {
      "text/html": [
       "<div>\n",
       "<style scoped>\n",
       "    .dataframe tbody tr th:only-of-type {\n",
       "        vertical-align: middle;\n",
       "    }\n",
       "\n",
       "    .dataframe tbody tr th {\n",
       "        vertical-align: top;\n",
       "    }\n",
       "\n",
       "    .dataframe thead th {\n",
       "        text-align: right;\n",
       "    }\n",
       "</style>\n",
       "<table border=\"1\" class=\"dataframe\">\n",
       "  <thead>\n",
       "    <tr style=\"text-align: right;\">\n",
       "      <th></th>\n",
       "      <th>0</th>\n",
       "    </tr>\n",
       "  </thead>\n",
       "  <tbody>\n",
       "    <tr>\n",
       "      <th>accountId</th>\n",
       "      <td>1041561</td>\n",
       "    </tr>\n",
       "    <tr>\n",
       "      <th>accountName</th>\n",
       "      <td>01041561</td>\n",
       "    </tr>\n",
       "    <tr>\n",
       "      <th>balance</th>\n",
       "      <td>39967.4</td>\n",
       "    </tr>\n",
       "    <tr>\n",
       "      <th>dayPL</th>\n",
       "      <td>0.63</td>\n",
       "    </tr>\n",
       "    <tr>\n",
       "      <th>equity</th>\n",
       "      <td>39967.3</td>\n",
       "    </tr>\n",
       "    <tr>\n",
       "      <th>grossPL</th>\n",
       "      <td>-0.16</td>\n",
       "    </tr>\n",
       "    <tr>\n",
       "      <th>hedging</th>\n",
       "      <td>Y</td>\n",
       "    </tr>\n",
       "    <tr>\n",
       "      <th>mc</th>\n",
       "      <td>N</td>\n",
       "    </tr>\n",
       "    <tr>\n",
       "      <th>mcDate</th>\n",
       "      <td></td>\n",
       "    </tr>\n",
       "    <tr>\n",
       "      <th>ratePrecision</th>\n",
       "      <td>0</td>\n",
       "    </tr>\n",
       "    <tr>\n",
       "      <th>t</th>\n",
       "      <td>6</td>\n",
       "    </tr>\n",
       "    <tr>\n",
       "      <th>usableMargin</th>\n",
       "      <td>39945.6</td>\n",
       "    </tr>\n",
       "    <tr>\n",
       "      <th>usableMargin3</th>\n",
       "      <td>39924</td>\n",
       "    </tr>\n",
       "    <tr>\n",
       "      <th>usableMargin3Perc</th>\n",
       "      <td>99.8917</td>\n",
       "    </tr>\n",
       "    <tr>\n",
       "      <th>usableMarginPerc</th>\n",
       "      <td>99.9458</td>\n",
       "    </tr>\n",
       "    <tr>\n",
       "      <th>usdMr</th>\n",
       "      <td>21.645</td>\n",
       "    </tr>\n",
       "    <tr>\n",
       "      <th>usdMr3</th>\n",
       "      <td>43.29</td>\n",
       "    </tr>\n",
       "  </tbody>\n",
       "</table>\n",
       "</div>"
      ],
      "text/plain": [
       "                          0\n",
       "accountId           1041561\n",
       "accountName        01041561\n",
       "balance             39967.4\n",
       "dayPL                  0.63\n",
       "equity              39967.3\n",
       "grossPL               -0.16\n",
       "hedging                   Y\n",
       "mc                        N\n",
       "mcDate                     \n",
       "ratePrecision             0\n",
       "t                         6\n",
       "usableMargin        39945.6\n",
       "usableMargin3         39924\n",
       "usableMargin3Perc   99.8917\n",
       "usableMarginPerc    99.9458\n",
       "usdMr                21.645\n",
       "usdMr3                43.29"
      ]
     },
     "execution_count": 42,
     "metadata": {},
     "output_type": "execute_result"
    }
   ],
   "source": [
    "con.get_accounts().T"
   ]
  },
  {
   "cell_type": "code",
   "execution_count": 54,
   "metadata": {},
   "outputs": [
    {
     "data": {
      "text/plain": [
       "[]"
      ]
     },
     "execution_count": 54,
     "metadata": {},
     "output_type": "execute_result"
    }
   ],
   "source": [
    "con.get_order_ids()"
   ]
  },
  {
   "cell_type": "code",
   "execution_count": 53,
   "metadata": {},
   "outputs": [
    {
     "data": {
      "text/plain": [
       "[]"
      ]
     },
     "execution_count": 53,
     "metadata": {},
     "output_type": "execute_result"
    }
   ],
   "source": [
    "con.get_open_trade_ids()"
   ]
  },
  {
   "cell_type": "code",
   "execution_count": 55,
   "metadata": {},
   "outputs": [
    {
     "data": {
      "text/plain": [
       "[]"
      ]
     },
     "execution_count": 55,
     "metadata": {},
     "output_type": "execute_result"
    }
   ],
   "source": [
    "con.get_closed_trade_ids()"
   ]
  },
  {
   "cell_type": "code",
   "execution_count": 56,
   "metadata": {},
   "outputs": [
    {
     "data": {
      "text/plain": [
       "[]"
      ]
     },
     "execution_count": 56,
     "metadata": {},
     "output_type": "execute_result"
    }
   ],
   "source": [
    "con.get_all_trade_ids()"
   ]
  },
  {
   "cell_type": "code",
   "execution_count": null,
   "metadata": {},
   "outputs": [],
   "source": []
  },
  {
   "cell_type": "code",
   "execution_count": null,
   "metadata": {},
   "outputs": [],
   "source": []
  },
  {
   "cell_type": "code",
   "execution_count": null,
   "metadata": {},
   "outputs": [],
   "source": []
  },
  {
   "cell_type": "code",
   "execution_count": null,
   "metadata": {},
   "outputs": [],
   "source": []
  },
  {
   "cell_type": "code",
   "execution_count": 1,
   "metadata": {},
   "outputs": [],
   "source": [
    "import pandas as pd\n",
    "import numpy as np\n",
    "from datetime import datetime\n",
    "\n",
    "import fxcmpy\n",
    "from apscheduler.schedulers.blocking import BlockingScheduler\n",
    "import os\n",
    "\n",
    "os_path = os.getcwd()\n",
    "\n",
    "def z(df):\n",
    "    return (df - df.mean()) / df.std()\n",
    "\n",
    "sched = BlockingScheduler()\n",
    "lot = 100\n",
    "tf = 'm5'\n",
    "con = fxcmpy.fxcmpy(config_file = 'fxcm.cfg')\n",
    "\n",
    "@sched.scheduled_job('interval', seconds=300)\n",
    "def timed_job():\n",
    "    print('new time job')\n",
    "    if (len(con.get_open_positions()) > 0):\n",
    "        check_position(con)\n",
    "    trading(con)\n",
    "    \n",
    "def check_position(con):\n",
    "    i = 0\n",
    "    for i in range(len(con.open_pos)):\n",
    "        #print('i = %i' % i)\n",
    "        trade_id = con.get_open_trade_ids()[i]\n",
    "        pos = con.get_open_position(trade_id)\n",
    "        amount = pos.get_amount()\n",
    "        symbol = pos.get_currency()\n",
    "        data = con.get_candles(symbol, period=tf, number=100)\n",
    "        if (pos.get_isBuy()):\n",
    "            data['Close_z'] = z(data['bidclose'])\n",
    "            #print(data.iloc[-1]['Close_z'])\n",
    "            if data.iloc[-1]['Close_z'] > -1:\n",
    "                con.close_trade(trade_id=trade_id, amount=amount)\n",
    "                print('close %s' % symbol)\n",
    "            else:\n",
    "                #print('no close')\n",
    "        else:\n",
    "            data['Close_z'] = z(data['askclose'])\n",
    "            #print(data.iloc[-1]['Close_z'])\n",
    "            if data.iloc[-1]['Close_z'] < 1:\n",
    "                con.close_trade(trade_id=trade_id, amount=amount)\n",
    "                print('close %s id: %i amount: %i' % (symbol, trade_id, amount))\n",
    "            else:\n",
    "                #print('no close')\n",
    "        i += 1\n",
    "            \n",
    "\n",
    "    \n",
    "def trading(con):\n",
    "    \n",
    "    symbols = ['EUR/USD', 'USD/JPY', 'GBP/USD', 'USD/CAD', 'USD/CHF', 'AUD/USD', 'NZD/USD', 'EUR/AUD', 'EUR/CAD', 'EUR/CHF', 'EUR/GBP', 'EUR/JPY', 'EUR/NZD', 'GBP/AUD', 'GBP/CAD', 'GBP/CHF', 'GBP/JPY', 'GBP/NZD', 'AUD/CAD', 'AUD/CHF', 'AUD/JPY', 'AUD/NZD', 'NZD/CAD', 'NZD/CHF', 'NZD/JPY', 'CAD/CHF', 'CAD/JPY', 'CHF/JPY']\n",
    "    df = dict()\n",
    "    for symbol in symbols:\n",
    "        df[symbol] = con.get_candles(symbol, period=tf, number=100)\n",
    "        df[symbol]['bid_Close_z'] = z(df[symbol]['bidclose'])\n",
    "        df[symbol]['ask_Close_z'] = z(df[symbol]['askclose'])\n",
    "        if df[symbol].iloc[-1]['ask_Close_z'] < -2:\n",
    "            print('buy signal')\n",
    "            if not hasCurrency(con, symbol):\n",
    "                order = con.create_market_buy_order(symbol, lot)\n",
    "                if order:\n",
    "                    print('buy %s success' % symbol)\n",
    "                else:\n",
    "                    print('buy %s not success' % symbol)\n",
    "        elif df[symbol].iloc[-1]['bid_Close_z'] > 2:\n",
    "            print('sell signal')\n",
    "            if not hasCurrency(con, symbol):\n",
    "                order = con.create_market_sell_order(symbol, lot)\n",
    "                if order:\n",
    "                    print('sell %s success' % symbol)\n",
    "                else:\n",
    "                    print('sell %s not success' % symbol)\n",
    "    print('---------')\n",
    "\n",
    "def hasCurrency(con, symbol):\n",
    "    i = 0\n",
    "    for i in range(len(con.open_pos)):\n",
    "        trade_id = con.get_open_trade_ids()[i]\n",
    "        pos = con.get_open_position(trad5e_id)\n",
    "        if symbol == pos.get_currency():\n",
    "            print('have position')\n",
    "            return True\n",
    "    print('%i not have position %s' % (i, symbol))\n",
    "    return False\n",
    "    \n",
    "\n",
    "#@sched.scheduled_job('cron', day_of_week='mon-fri', hour=10)\n",
    "#def scheduled_job():\n",
    "#    print('This job is run every weekday at 10am.')\n"
   ]
  },
  {
   "cell_type": "code",
   "execution_count": 2,
   "metadata": {},
   "outputs": [
    {
     "name": "stdout",
     "output_type": "stream",
     "text": [
      "new time job\n",
      "i = 0\n",
      "-0.6443965279774007\n",
      "close EUR/JPY\n",
      "i = 1\n",
      "0.6341650187668785\n",
      "close USD/JPY\n",
      "i = 2\n",
      "-1.138809992579526\n",
      "no close\n",
      "i = 3\n",
      "new time job\n",
      "i = 0\n",
      "-0.17480932561380164\n",
      "close EUR/GBP\n",
      "i = 1\n",
      "-0.9180360613915809\n",
      "close EUR/USD\n",
      "sell signal\n",
      "0 not have position AUD/CHF\n",
      "sell AUD/CHF success\n",
      "sell signal\n",
      "new time job\n",
      "i = 0\n",
      "2.0328834371379427\n",
      "no close\n",
      "sell signal\n",
      "new time job\n",
      "i = 0\n",
      "1.2774801581352855\n",
      "no close\n",
      "---------\n",
      "new time job\n",
      "i = 0\n",
      "0.6139737488777671\n",
      "close AUD/CHF id: 67575515 amount: 100\n",
      "buy signal\n",
      "0 not have position EUR/CHF\n",
      "buy EUR/CHF success\n",
      "---------\n",
      "new time job\n",
      "i = 0\n",
      "-2.7983437431150415\n",
      "no close\n",
      "buy signal\n",
      "new time job\n",
      "i = 0\n",
      "-2.4099069876670014\n",
      "no close\n",
      "buy signal\n",
      "new time job\n",
      "i = 0\n",
      "-2.092246696273213\n",
      "no close\n",
      "buy signal\n",
      "new time job\n",
      "i = 0\n",
      "-1.9360090695332501\n",
      "no close\n",
      "---------\n",
      "new time job\n",
      "i = 0\n",
      "-1.9531648469891143\n",
      "no close\n",
      "---------\n",
      "new time job\n",
      "i = 0\n",
      "-1.6485849120828286\n",
      "no close\n",
      "---------\n",
      "new time job\n",
      "i = 0\n",
      "-1.8091738249914937\n",
      "no close\n",
      "buy signal\n",
      "new time job\n",
      "i = 0\n",
      "-2.040236267213655\n",
      "no close\n",
      "buy signal\n",
      "new time job\n",
      "i = 0\n",
      "-2.553197312024965\n",
      "no close\n",
      "buy signal\n"
     ]
    },
    {
     "ename": "KeyboardInterrupt",
     "evalue": "",
     "output_type": "error",
     "traceback": [
      "\u001b[0;31m---------------------------------------------------------------------------\u001b[0m",
      "\u001b[0;31mKeyboardInterrupt\u001b[0m                         Traceback (most recent call last)",
      "\u001b[0;32m<ipython-input-2-cebf43dbc3dd>\u001b[0m in \u001b[0;36m<module>\u001b[0;34m\u001b[0m\n\u001b[1;32m      1\u001b[0m \u001b[0;32mif\u001b[0m \u001b[0m__name__\u001b[0m \u001b[0;34m==\u001b[0m \u001b[0;34m\"__main__\"\u001b[0m\u001b[0;34m:\u001b[0m\u001b[0;34m\u001b[0m\u001b[0;34m\u001b[0m\u001b[0m\n\u001b[0;32m----> 2\u001b[0;31m     \u001b[0msched\u001b[0m\u001b[0;34m.\u001b[0m\u001b[0mstart\u001b[0m\u001b[0;34m(\u001b[0m\u001b[0;34m)\u001b[0m\u001b[0;34m\u001b[0m\u001b[0;34m\u001b[0m\u001b[0m\n\u001b[0m",
      "\u001b[0;32m/anaconda2/envs/fxcm/lib/python3.7/site-packages/apscheduler/schedulers/blocking.py\u001b[0m in \u001b[0;36mstart\u001b[0;34m(self, *args, **kwargs)\u001b[0m\n\u001b[1;32m     17\u001b[0m         \u001b[0mself\u001b[0m\u001b[0;34m.\u001b[0m\u001b[0m_event\u001b[0m \u001b[0;34m=\u001b[0m \u001b[0mEvent\u001b[0m\u001b[0;34m(\u001b[0m\u001b[0;34m)\u001b[0m\u001b[0;34m\u001b[0m\u001b[0;34m\u001b[0m\u001b[0m\n\u001b[1;32m     18\u001b[0m         \u001b[0msuper\u001b[0m\u001b[0;34m(\u001b[0m\u001b[0mBlockingScheduler\u001b[0m\u001b[0;34m,\u001b[0m \u001b[0mself\u001b[0m\u001b[0;34m)\u001b[0m\u001b[0;34m.\u001b[0m\u001b[0mstart\u001b[0m\u001b[0;34m(\u001b[0m\u001b[0;34m*\u001b[0m\u001b[0margs\u001b[0m\u001b[0;34m,\u001b[0m \u001b[0;34m**\u001b[0m\u001b[0mkwargs\u001b[0m\u001b[0;34m)\u001b[0m\u001b[0;34m\u001b[0m\u001b[0;34m\u001b[0m\u001b[0m\n\u001b[0;32m---> 19\u001b[0;31m         \u001b[0mself\u001b[0m\u001b[0;34m.\u001b[0m\u001b[0m_main_loop\u001b[0m\u001b[0;34m(\u001b[0m\u001b[0;34m)\u001b[0m\u001b[0;34m\u001b[0m\u001b[0;34m\u001b[0m\u001b[0m\n\u001b[0m\u001b[1;32m     20\u001b[0m \u001b[0;34m\u001b[0m\u001b[0m\n\u001b[1;32m     21\u001b[0m     \u001b[0;32mdef\u001b[0m \u001b[0mshutdown\u001b[0m\u001b[0;34m(\u001b[0m\u001b[0mself\u001b[0m\u001b[0;34m,\u001b[0m \u001b[0mwait\u001b[0m\u001b[0;34m=\u001b[0m\u001b[0;32mTrue\u001b[0m\u001b[0;34m)\u001b[0m\u001b[0;34m:\u001b[0m\u001b[0;34m\u001b[0m\u001b[0;34m\u001b[0m\u001b[0m\n",
      "\u001b[0;32m/anaconda2/envs/fxcm/lib/python3.7/site-packages/apscheduler/schedulers/blocking.py\u001b[0m in \u001b[0;36m_main_loop\u001b[0;34m(self)\u001b[0m\n\u001b[1;32m     26\u001b[0m         \u001b[0mwait_seconds\u001b[0m \u001b[0;34m=\u001b[0m \u001b[0mTIMEOUT_MAX\u001b[0m\u001b[0;34m\u001b[0m\u001b[0;34m\u001b[0m\u001b[0m\n\u001b[1;32m     27\u001b[0m         \u001b[0;32mwhile\u001b[0m \u001b[0mself\u001b[0m\u001b[0;34m.\u001b[0m\u001b[0mstate\u001b[0m \u001b[0;34m!=\u001b[0m \u001b[0mSTATE_STOPPED\u001b[0m\u001b[0;34m:\u001b[0m\u001b[0;34m\u001b[0m\u001b[0;34m\u001b[0m\u001b[0m\n\u001b[0;32m---> 28\u001b[0;31m             \u001b[0mself\u001b[0m\u001b[0;34m.\u001b[0m\u001b[0m_event\u001b[0m\u001b[0;34m.\u001b[0m\u001b[0mwait\u001b[0m\u001b[0;34m(\u001b[0m\u001b[0mwait_seconds\u001b[0m\u001b[0;34m)\u001b[0m\u001b[0;34m\u001b[0m\u001b[0;34m\u001b[0m\u001b[0m\n\u001b[0m\u001b[1;32m     29\u001b[0m             \u001b[0mself\u001b[0m\u001b[0;34m.\u001b[0m\u001b[0m_event\u001b[0m\u001b[0;34m.\u001b[0m\u001b[0mclear\u001b[0m\u001b[0;34m(\u001b[0m\u001b[0;34m)\u001b[0m\u001b[0;34m\u001b[0m\u001b[0;34m\u001b[0m\u001b[0m\n\u001b[1;32m     30\u001b[0m             \u001b[0mwait_seconds\u001b[0m \u001b[0;34m=\u001b[0m \u001b[0mself\u001b[0m\u001b[0;34m.\u001b[0m\u001b[0m_process_jobs\u001b[0m\u001b[0;34m(\u001b[0m\u001b[0;34m)\u001b[0m\u001b[0;34m\u001b[0m\u001b[0;34m\u001b[0m\u001b[0m\n",
      "\u001b[0;32m/anaconda2/envs/fxcm/lib/python3.7/threading.py\u001b[0m in \u001b[0;36mwait\u001b[0;34m(self, timeout)\u001b[0m\n\u001b[1;32m    550\u001b[0m             \u001b[0msignaled\u001b[0m \u001b[0;34m=\u001b[0m \u001b[0mself\u001b[0m\u001b[0;34m.\u001b[0m\u001b[0m_flag\u001b[0m\u001b[0;34m\u001b[0m\u001b[0;34m\u001b[0m\u001b[0m\n\u001b[1;32m    551\u001b[0m             \u001b[0;32mif\u001b[0m \u001b[0;32mnot\u001b[0m \u001b[0msignaled\u001b[0m\u001b[0;34m:\u001b[0m\u001b[0;34m\u001b[0m\u001b[0;34m\u001b[0m\u001b[0m\n\u001b[0;32m--> 552\u001b[0;31m                 \u001b[0msignaled\u001b[0m \u001b[0;34m=\u001b[0m \u001b[0mself\u001b[0m\u001b[0;34m.\u001b[0m\u001b[0m_cond\u001b[0m\u001b[0;34m.\u001b[0m\u001b[0mwait\u001b[0m\u001b[0;34m(\u001b[0m\u001b[0mtimeout\u001b[0m\u001b[0;34m)\u001b[0m\u001b[0;34m\u001b[0m\u001b[0;34m\u001b[0m\u001b[0m\n\u001b[0m\u001b[1;32m    553\u001b[0m             \u001b[0;32mreturn\u001b[0m \u001b[0msignaled\u001b[0m\u001b[0;34m\u001b[0m\u001b[0;34m\u001b[0m\u001b[0m\n\u001b[1;32m    554\u001b[0m \u001b[0;34m\u001b[0m\u001b[0m\n",
      "\u001b[0;32m/anaconda2/envs/fxcm/lib/python3.7/threading.py\u001b[0m in \u001b[0;36mwait\u001b[0;34m(self, timeout)\u001b[0m\n\u001b[1;32m    298\u001b[0m             \u001b[0;32melse\u001b[0m\u001b[0;34m:\u001b[0m\u001b[0;34m\u001b[0m\u001b[0;34m\u001b[0m\u001b[0m\n\u001b[1;32m    299\u001b[0m                 \u001b[0;32mif\u001b[0m \u001b[0mtimeout\u001b[0m \u001b[0;34m>\u001b[0m \u001b[0;36m0\u001b[0m\u001b[0;34m:\u001b[0m\u001b[0;34m\u001b[0m\u001b[0;34m\u001b[0m\u001b[0m\n\u001b[0;32m--> 300\u001b[0;31m                     \u001b[0mgotit\u001b[0m \u001b[0;34m=\u001b[0m \u001b[0mwaiter\u001b[0m\u001b[0;34m.\u001b[0m\u001b[0macquire\u001b[0m\u001b[0;34m(\u001b[0m\u001b[0;32mTrue\u001b[0m\u001b[0;34m,\u001b[0m \u001b[0mtimeout\u001b[0m\u001b[0;34m)\u001b[0m\u001b[0;34m\u001b[0m\u001b[0;34m\u001b[0m\u001b[0m\n\u001b[0m\u001b[1;32m    301\u001b[0m                 \u001b[0;32melse\u001b[0m\u001b[0;34m:\u001b[0m\u001b[0;34m\u001b[0m\u001b[0;34m\u001b[0m\u001b[0m\n\u001b[1;32m    302\u001b[0m                     \u001b[0mgotit\u001b[0m \u001b[0;34m=\u001b[0m \u001b[0mwaiter\u001b[0m\u001b[0;34m.\u001b[0m\u001b[0macquire\u001b[0m\u001b[0;34m(\u001b[0m\u001b[0;32mFalse\u001b[0m\u001b[0;34m)\u001b[0m\u001b[0;34m\u001b[0m\u001b[0;34m\u001b[0m\u001b[0m\n",
      "\u001b[0;31mKeyboardInterrupt\u001b[0m: "
     ]
    }
   ],
   "source": [
    "if __name__ == \"__main__\":  \n",
    "    sched.start()"
   ]
  },
  {
   "cell_type": "code",
   "execution_count": 2,
   "metadata": {},
   "outputs": [
    {
     "data": {
      "text/plain": [
       "'/Users/ballmdr/blockchain-python/FXCM/Python Trading'"
      ]
     },
     "execution_count": 2,
     "metadata": {},
     "output_type": "execute_result"
    }
   ],
   "source": [
    "os_path"
   ]
  },
  {
   "cell_type": "code",
   "execution_count": null,
   "metadata": {},
   "outputs": [],
   "source": []
  }
 ],
 "metadata": {
  "kernelspec": {
   "display_name": "Python 3",
   "language": "python",
   "name": "python3"
  },
  "language_info": {
   "codemirror_mode": {
    "name": "ipython",
    "version": 3
   },
   "file_extension": ".py",
   "mimetype": "text/x-python",
   "name": "python",
   "nbconvert_exporter": "python",
   "pygments_lexer": "ipython3",
   "version": "3.7.2"
  }
 },
 "nbformat": 4,
 "nbformat_minor": 2
}
